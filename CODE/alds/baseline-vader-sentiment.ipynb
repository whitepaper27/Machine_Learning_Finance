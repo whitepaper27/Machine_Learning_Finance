{
 "cells": [
  {
   "cell_type": "code",
   "execution_count": 1,
   "metadata": {},
   "outputs": [
    {
     "name": "stderr",
     "output_type": "stream",
     "text": [
      "[nltk_data] Downloading package vader_lexicon to\n",
      "[nltk_data]     /Users/geshwar/nltk_data...\n",
      "[nltk_data]   Package vader_lexicon is already up-to-date!\n"
     ]
    }
   ],
   "source": [
    "# parts of this code has been referenced from https://blog.quantinsti.com/vader-sentiment/\n",
    "#import relevant libraries\n",
    "\n",
    "# nltk for baseline unsupervised sentiment detection using vader lexicon\n",
    "import nltk\n",
    "nltk.download('vader_lexicon')\n",
    "from nltk.sentiment.vader import SentimentIntensityAnalyzer\n",
    "# pandas and numpy for dealing with csv and numerical operations\n",
    "import pandas as pd\n",
    "import numpy as np"
   ]
  },
  {
   "cell_type": "code",
   "execution_count": 2,
   "metadata": {},
   "outputs": [],
   "source": [
    "train = pd.read_csv('train.csv')\n",
    "test = pd.read_csv('test.csv')\n",
    "train['diff'] = train['Open'] - train['Close']\n",
    "test['diff'] = test['Open'] - test['Close']\n"
   ]
  },
  {
   "cell_type": "code",
   "execution_count": 3,
   "metadata": {},
   "outputs": [],
   "source": [
    "from sklearn.metrics import roc_curve, roc_auc_score\n",
    "\n",
    "def get_labels(val):\n",
    "    if val > 0 :\n",
    "        return 1\n",
    "    else:\n",
    "        return 0\n",
    "\n",
    "def get_data(train_file, test_file, cols):\n",
    "    train = pd.read_csv(train_file)\n",
    "    test = pd.read_csv(test_file)\n",
    "    train['diff'] = train['Open'] - train['Close']\n",
    "    test['diff'] = test['Open'] - test['Close']\n",
    "    train['label'] = train['diff'].apply(get_labels)\n",
    "    test['label'] = train['diff'].apply(get_labels)\n",
    "    \n",
    "    train = get_vader_score(train, cols)\n",
    "    test = get_vader_score(test, cols)\n",
    "    return train, test\n",
    "\n",
    "def get_vader_score(df, cols):\n",
    "    # vader sentiment detector\n",
    "    analyzer = SentimentIntensityAnalyzer()\n",
    "    scores = []\n",
    "    \n",
    "    df['text_final'] = df[cols].apply(lambda row: '. '.join(row.values.astype(str)), axis=1).tolist()\n",
    "    for te in range(len(df)):\n",
    "        scores.append(analyzer.polarity_scores(df['text_final'].iloc[te])['compound'])\n",
    "\n",
    "    df['compound_vader_score'] = scores\n",
    "    return df\n",
    "\n",
    "from sklearn.metrics import accuracy_score\n",
    "def generate_roc_score(df, df_col, prob_col):\n",
    "    li = list(df[df_col])\n",
    "    fpr, tpr, thresholds = roc_curve(li, df[prob_col])\n",
    "    optimal_idx = np.argmax(tpr - fpr)\n",
    "    optimal_threshold = thresholds[optimal_idx]\n",
    "    return optimal_threshold\n",
    "\n",
    "def compute_accuracy(df, df_col, prob_col, threshold):\n",
    "    li = list(df[df_col])\n",
    "    preds = []\n",
    "    for val in list(df[prob_col]):\n",
    "        if val < threshold:\n",
    "            preds.append(0)\n",
    "        else:\n",
    "            preds.append(1)\n",
    "    return accuracy_score(li, preds)\n",
    "\n",
    "\n",
    "\n",
    "    "
   ]
  },
  {
   "cell_type": "code",
   "execution_count": 4,
   "metadata": {},
   "outputs": [
    {
     "name": "stdout",
     "output_type": "stream",
     "text": [
      "Optimal threshold  0.0258\n",
      "Train and test accuracy 0.5115446779034865 0.5269607843137255\n"
     ]
    }
   ],
   "source": [
    "#using only title of news\n",
    "train, test = get_data('train.csv', 'test.csv', ['title'])\n",
    "optimal_threshold = generate_roc_score(train, 'label', 'compound_vader_score')\n",
    "print(\"Optimal threshold \", optimal_threshold)\n",
    "train_accuracy = compute_accuracy(train, 'label', 'compound_vader_score', optimal_threshold)\n",
    "test_accuracy = compute_accuracy(test, 'label', 'compound_vader_score', optimal_threshold)\n",
    "print(\"Train and test accuracy\", train_accuracy, test_accuracy)"
   ]
  },
  {
   "cell_type": "code",
   "execution_count": 5,
   "metadata": {},
   "outputs": [
    {
     "name": "stdout",
     "output_type": "stream",
     "text": [
      "Optimal threshold  0.5709\n",
      "Train and test accuracy 0.5055414453936735 0.528921568627451\n"
     ]
    }
   ],
   "source": [
    "#using only title and description of news\n",
    "train, test = get_data('train.csv', 'test.csv', ['title', 'description'])\n",
    "optimal_threshold = generate_roc_score(train, 'label', 'compound_vader_score')\n",
    "print(\"Optimal threshold \", optimal_threshold)\n",
    "train_accuracy = compute_accuracy(train, 'label', 'compound_vader_score', optimal_threshold)\n",
    "test_accuracy = compute_accuracy(test, 'label', 'compound_vader_score', optimal_threshold)\n",
    "print(\"Train and test accuracy\", train_accuracy, test_accuracy)"
   ]
  },
  {
   "cell_type": "code",
   "execution_count": null,
   "metadata": {},
   "outputs": [],
   "source": []
  },
  {
   "cell_type": "code",
   "execution_count": null,
   "metadata": {},
   "outputs": [],
   "source": []
  },
  {
   "cell_type": "code",
   "execution_count": null,
   "metadata": {},
   "outputs": [],
   "source": []
  },
  {
   "cell_type": "code",
   "execution_count": null,
   "metadata": {},
   "outputs": [],
   "source": []
  },
  {
   "cell_type": "code",
   "execution_count": null,
   "metadata": {},
   "outputs": [],
   "source": []
  },
  {
   "cell_type": "code",
   "execution_count": null,
   "metadata": {},
   "outputs": [],
   "source": []
  },
  {
   "cell_type": "code",
   "execution_count": null,
   "metadata": {},
   "outputs": [],
   "source": []
  }
 ],
 "metadata": {
  "kernelspec": {
   "display_name": "Python 3",
   "language": "python",
   "name": "python3"
  },
  "language_info": {
   "codemirror_mode": {
    "name": "ipython",
    "version": 3
   },
   "file_extension": ".py",
   "mimetype": "text/x-python",
   "name": "python",
   "nbconvert_exporter": "python",
   "pygments_lexer": "ipython3",
   "version": "3.8.3"
  }
 },
 "nbformat": 4,
 "nbformat_minor": 4
}
